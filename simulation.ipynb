{
 "cells": [
  {
   "cell_type": "code",
   "execution_count": 1,
   "metadata": {},
   "outputs": [],
   "source": [
    "%matplotlib inline\n",
    "import numpy as np\n",
    "import pandas as pd\n",
    "\n",
    "import viz # curriculum example visualizations\n",
    "\n",
    "np.random.seed(29)"
   ]
  },
  {
   "cell_type": "code",
   "execution_count": 158,
   "metadata": {},
   "outputs": [
    {
     "data": {
      "text/plain": [
       "0.1671"
      ]
     },
     "execution_count": 158,
     "metadata": {},
     "output_type": "execute_result"
    }
   ],
   "source": [
    "#1.) How likely is it that you roll doubles when rolling two dice?\n",
    "\n",
    "\n",
    "n_trials = n_rows = 10_000\n",
    "n_dice = n_cols = 2\n",
    "\n",
    "\n",
    "rolls = np.random.choice([1, 2, 3, 4, 5, 6], size = (n_rows, n_cols))\n",
    "rolls\n",
    "\n",
    "rolls = pd.DataFrame(rolls, columns=['die1', 'die2'])\n",
    "rolls\n",
    "\n",
    "(rolls.die1 == rolls.die2).mean()"
   ]
  },
  {
   "cell_type": "code",
   "execution_count": 7,
   "metadata": {},
   "outputs": [
    {
     "data": {
      "text/html": [
       "<div>\n",
       "<style scoped>\n",
       "    .dataframe tbody tr th:only-of-type {\n",
       "        vertical-align: middle;\n",
       "    }\n",
       "\n",
       "    .dataframe tbody tr th {\n",
       "        vertical-align: top;\n",
       "    }\n",
       "\n",
       "    .dataframe thead th {\n",
       "        text-align: right;\n",
       "    }\n",
       "</style>\n",
       "<table border=\"1\" class=\"dataframe\">\n",
       "  <thead>\n",
       "    <tr style=\"text-align: right;\">\n",
       "      <th></th>\n",
       "      <th>0</th>\n",
       "      <th>1</th>\n",
       "      <th>2</th>\n",
       "      <th>3</th>\n",
       "      <th>4</th>\n",
       "      <th>5</th>\n",
       "      <th>6</th>\n",
       "      <th>7</th>\n",
       "      <th>n_heads</th>\n",
       "    </tr>\n",
       "  </thead>\n",
       "  <tbody>\n",
       "    <tr>\n",
       "      <th>0</th>\n",
       "      <td>heads</td>\n",
       "      <td>tails</td>\n",
       "      <td>heads</td>\n",
       "      <td>heads</td>\n",
       "      <td>heads</td>\n",
       "      <td>heads</td>\n",
       "      <td>heads</td>\n",
       "      <td>tails</td>\n",
       "      <td>6</td>\n",
       "    </tr>\n",
       "    <tr>\n",
       "      <th>1</th>\n",
       "      <td>tails</td>\n",
       "      <td>tails</td>\n",
       "      <td>tails</td>\n",
       "      <td>heads</td>\n",
       "      <td>tails</td>\n",
       "      <td>tails</td>\n",
       "      <td>tails</td>\n",
       "      <td>heads</td>\n",
       "      <td>2</td>\n",
       "    </tr>\n",
       "    <tr>\n",
       "      <th>2</th>\n",
       "      <td>tails</td>\n",
       "      <td>heads</td>\n",
       "      <td>tails</td>\n",
       "      <td>tails</td>\n",
       "      <td>tails</td>\n",
       "      <td>tails</td>\n",
       "      <td>heads</td>\n",
       "      <td>tails</td>\n",
       "      <td>2</td>\n",
       "    </tr>\n",
       "    <tr>\n",
       "      <th>3</th>\n",
       "      <td>heads</td>\n",
       "      <td>tails</td>\n",
       "      <td>heads</td>\n",
       "      <td>tails</td>\n",
       "      <td>heads</td>\n",
       "      <td>heads</td>\n",
       "      <td>heads</td>\n",
       "      <td>heads</td>\n",
       "      <td>6</td>\n",
       "    </tr>\n",
       "    <tr>\n",
       "      <th>4</th>\n",
       "      <td>tails</td>\n",
       "      <td>tails</td>\n",
       "      <td>tails</td>\n",
       "      <td>tails</td>\n",
       "      <td>heads</td>\n",
       "      <td>heads</td>\n",
       "      <td>heads</td>\n",
       "      <td>tails</td>\n",
       "      <td>3</td>\n",
       "    </tr>\n",
       "  </tbody>\n",
       "</table>\n",
       "</div>"
      ],
      "text/plain": [
       "       0      1      2      3      4      5      6      7  n_heads\n",
       "0  heads  tails  heads  heads  heads  heads  heads  tails        6\n",
       "1  tails  tails  tails  heads  tails  tails  tails  heads        2\n",
       "2  tails  heads  tails  tails  tails  tails  heads  tails        2\n",
       "3  heads  tails  heads  tails  heads  heads  heads  heads        6\n",
       "4  tails  tails  tails  tails  heads  heads  heads  tails        3"
      ]
     },
     "execution_count": 7,
     "metadata": {},
     "output_type": "execute_result"
    }
   ],
   "source": [
    "#2.) If you flip 8 coins, what is the probability of getting exactly 3 heads?\n",
    "#  What is the probability of getting more than 3 heads?\n",
    "\n",
    "n_rows = 10_000\n",
    "n_cols = 8 \n",
    "flips = np.random.choice(['heads', 'tails'], size = (n_rows, n_cols))\n",
    "flips = pd.DataFrame(flips)\n",
    "\n",
    "flips['n_heads'] = (flips == 'heads').sum(axis=1)\n",
    "flips.head()\n",
    "\n"
   ]
  },
  {
   "cell_type": "code",
   "execution_count": 9,
   "metadata": {},
   "outputs": [
    {
     "data": {
      "text/plain": [
       "0.2226"
      ]
     },
     "execution_count": 9,
     "metadata": {},
     "output_type": "execute_result"
    }
   ],
   "source": [
    "(flips.n_heads == 3).mean()"
   ]
  },
  {
   "cell_type": "code",
   "execution_count": 10,
   "metadata": {},
   "outputs": [
    {
     "data": {
      "text/plain": [
       "0.6321"
      ]
     },
     "execution_count": 10,
     "metadata": {},
     "output_type": "execute_result"
    }
   ],
   "source": [
    "(flips.n_heads > 3).mean()"
   ]
  },
  {
   "cell_type": "code",
   "execution_count": 99,
   "metadata": {},
   "outputs": [
    {
     "data": {
      "text/plain": [
       "0.064"
      ]
     },
     "execution_count": 99,
     "metadata": {},
     "output_type": "execute_result"
    }
   ],
   "source": [
    "#3 There are approximitely 3 web development cohorts for every 1 data science cohort at Codeup. \n",
    "# Assuming that Codeup randomly selects an alumni to put on a billboard, \n",
    "# what are the odds that the two billboards I drive past both have data \n",
    "# science students on them?\n",
    "\n",
    "n_rows = 10_000\n",
    "n_cols = 2  \n",
    "\n",
    "BB = np.random.choice(['WD', 'WD', 'WD', 'DS'], size = (n_rows, n_cols))\n",
    "BB\n",
    "\n",
    "BB = pd.DataFrame(BB, columns = ['BB1', 'BB2'])\n",
    "BB\n",
    "\n",
    "((BB.BB1 == 'DS') & (BB.BB2 == 'DS')).mean()"
   ]
  },
  {
   "cell_type": "code",
   "execution_count": 101,
   "metadata": {},
   "outputs": [
    {
     "data": {
      "text/plain": [
       "0.7197"
      ]
     },
     "execution_count": 101,
     "metadata": {},
     "output_type": "execute_result"
    }
   ],
   "source": [
    "#.4)\n",
    "\n",
    "n_rows = 10_000\n",
    "n_cols = 5 \n",
    "\n",
    "poptarts = np.random.normal(loc = 3, scale=1.5, size = (n_rows, n_cols))\n",
    "poptarts = pd.DataFrame(poptarts)\n",
    "poptarts\n",
    "\n",
    "poptarts['n_poptarts'] = (poptarts).sum(axis=1)\n",
    "poptarts\n",
    "\n",
    "(poptarts.n_poptarts < 17).mean()"
   ]
  },
  {
   "cell_type": "code",
   "execution_count": 45,
   "metadata": {},
   "outputs": [
    {
     "data": {
      "text/plain": [
       "0.2078"
      ]
     },
     "execution_count": 45,
     "metadata": {},
     "output_type": "execute_result"
    }
   ],
   "source": [
    "#.5)\n",
    "\n",
    "n_rows = 10_000\n",
    "n_cols = 1 \n",
    "\n",
    "men_h = np.random.normal(loc = 178, scale=8, size = (n_rows, n_cols))\n",
    "women_h = np.random.normal(loc = 170, scale=6, size = (n_rows, n_cols))\n",
    "\n",
    "(women_h > men_h).mean()\n"
   ]
  },
  {
   "cell_type": "code",
   "execution_count": 23,
   "metadata": {},
   "outputs": [
    {
     "data": {
      "text/plain": [
       "0.8192"
      ]
     },
     "execution_count": 23,
     "metadata": {},
     "output_type": "execute_result"
    }
   ],
   "source": [
    "#6.)\n",
    "\n",
    "n_rows = 10_000\n",
    "n_cols = 50\n",
    "\n",
    "no_corruption = np.random.choice([0, 1], p = [.004, 0.996], size = (n_rows, n_cols))\n",
    "\n",
    "(no_corruption.sum(axis=1) == 50).mean()\n"
   ]
  },
  {
   "cell_type": "code",
   "execution_count": 62,
   "metadata": {},
   "outputs": [
    {
     "data": {
      "text/plain": [
       "0.6682"
      ]
     },
     "execution_count": 62,
     "metadata": {},
     "output_type": "execute_result"
    }
   ],
   "source": [
    "p_chance = .004\n",
    "n_rows = 10_000\n",
    "n_cols = 100\n",
    "\n",
    "no_corruption = np.random.choice([0, 1], p = [.004, 0.996], size = (n_rows, n_cols))\n",
    "\n",
    "(no_corruption.sum(axis=1) == 100).mean()"
   ]
  },
  {
   "cell_type": "code",
   "execution_count": 108,
   "metadata": {},
   "outputs": [
    {
     "data": {
      "text/plain": [
       "0.4554"
      ]
     },
     "execution_count": 108,
     "metadata": {},
     "output_type": "execute_result"
    }
   ],
   "source": [
    "p_chance = .004\n",
    "n_rows = 10_000\n",
    "n_cols = 150\n",
    "\n",
    "corruption = np.random.choice([0, 1], p = [.004, .996], size = (n_rows, n_cols))\n",
    "\n",
    "(corruption.sum(axis=1) < 150).mean()"
   ]
  },
  {
   "cell_type": "code",
   "execution_count": 34,
   "metadata": {},
   "outputs": [
    {
     "data": {
      "text/plain": [
       "0.1672"
      ]
     },
     "execution_count": 34,
     "metadata": {},
     "output_type": "execute_result"
    }
   ],
   "source": [
    "p_chance = .004\n",
    "n_rows = 10_000\n",
    "n_cols = 450\n",
    "\n",
    "no_corruption = np.random.choice([0, 1], p = [.004, 0.996], size = (n_rows, n_cols))\n",
    "\n",
    "(no_corruption.sum(axis=1) == 450).mean()"
   ]
  },
  {
   "cell_type": "code",
   "execution_count": 154,
   "metadata": {},
   "outputs": [
    {
     "data": {
      "text/plain": [
       "0.0268"
      ]
     },
     "execution_count": 154,
     "metadata": {},
     "output_type": "execute_result"
    }
   ],
   "source": [
    "#7.) There's a 70% chance on any given day that there \n",
    "# will be at least one food truck at Travis Park. \n",
    "# However, you haven't seen a food truck there in 3 days. How unlikely is this?\n",
    "# How likely is it that a food truck will show up sometime this week?\n",
    "\n",
    "p_truck = .7\n",
    "n_rows = 10_000\n",
    "n_cols = 3\n",
    "\n",
    "truck = np.random.choice([0, 1], p = [.3, .7], size = (n_rows, n_cols))\n",
    "#truck.mean()\n",
    "\n",
    "#data = np.random.random((n_rows, n_cols))\n",
    "#trucks = data < p_truck\n",
    "#trucks\n",
    "\n",
    "(truck.sum(axis=1) == 0).mean()"
   ]
  },
  {
   "cell_type": "code",
   "execution_count": 167,
   "metadata": {},
   "outputs": [
    {
     "data": {
      "text/plain": [
       "0.9103"
      ]
     },
     "execution_count": 167,
     "metadata": {},
     "output_type": "execute_result"
    }
   ],
   "source": [
    "p_truck = .7\n",
    "n_rows = 10_000\n",
    "n_cols = 2\n",
    "\n",
    "truck = np.random.choice([0, 1], p = [.3, .7], size = (n_rows, n_cols))\n",
    "\n",
    "\n",
    "#data = np.random.random((n_rows, n_cols))\n",
    "#trucks = data > p_truck\n",
    "#trucks\n",
    "\n",
    "(truck.sum(axis=1) > 0).mean()"
   ]
  },
  {
   "cell_type": "code",
   "execution_count": 178,
   "metadata": {},
   "outputs": [
    {
     "data": {
      "text/plain": [
       "0.5147"
      ]
     },
     "execution_count": 178,
     "metadata": {},
     "output_type": "execute_result"
    }
   ],
   "source": [
    "#8.) If 23 people are in the same room, \n",
    "# what are the odds that two of them share a birthday? \n",
    "# What if it's 20 people? 40\n",
    "\n",
    "n_rows = 10_000\n",
    "n_cols = 23\n",
    "\n",
    "same_b = np.random.choice(range(1, 366), size = (n_rows, n_cols))\n",
    "same_b = pd.DataFrame(same_b)\n",
    "\n",
    "(same_b.nunique(axis=1) < 23).mean()\n",
    "\n"
   ]
  },
  {
   "cell_type": "code",
   "execution_count": 179,
   "metadata": {},
   "outputs": [
    {
     "data": {
      "text/plain": [
       "0.4147"
      ]
     },
     "execution_count": 179,
     "metadata": {},
     "output_type": "execute_result"
    }
   ],
   "source": [
    "\n",
    "n_rows = 10_000\n",
    "n_cols = 20\n",
    "\n",
    "same_b = np.random.choice(range(1, 366), size = (n_rows, n_cols))\n",
    "same_b = pd.DataFrame(same_b)\n",
    "\n",
    "(same_b.nunique(axis=1) < 20).mean()"
   ]
  },
  {
   "cell_type": "code",
   "execution_count": 180,
   "metadata": {},
   "outputs": [
    {
     "data": {
      "text/plain": [
       "0.8975"
      ]
     },
     "execution_count": 180,
     "metadata": {},
     "output_type": "execute_result"
    }
   ],
   "source": [
    "n_rows = 10_000\n",
    "n_cols = 40\n",
    "\n",
    "same_b = np.random.choice(range(1, 366), size = (n_rows, n_cols))\n",
    "same_b = pd.DataFrame(same_b)\n",
    "\n",
    "(same_b.nunique(axis=1) < 40).mean()"
   ]
  }
 ],
 "metadata": {
  "interpreter": {
   "hash": "38cca0c38332a56087b24af0bc80247f4fced29cb4f7f437d91dc159adec9c4e"
  },
  "kernelspec": {
   "display_name": "Python 3.9.12 ('base')",
   "language": "python",
   "name": "python3"
  },
  "language_info": {
   "codemirror_mode": {
    "name": "ipython",
    "version": 3
   },
   "file_extension": ".py",
   "mimetype": "text/x-python",
   "name": "python",
   "nbconvert_exporter": "python",
   "pygments_lexer": "ipython3",
   "version": "3.9.12"
  },
  "orig_nbformat": 4
 },
 "nbformat": 4,
 "nbformat_minor": 2
}
